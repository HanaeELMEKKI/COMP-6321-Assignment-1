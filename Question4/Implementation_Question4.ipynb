{
  "nbformat": 4,
  "nbformat_minor": 0,
  "metadata": {
    "colab": {
      "provenance": [],
      "gpuType": "T4",
      "authorship_tag": "ABX9TyNHf/4uddSGB9McOQ94ggnp",
      "include_colab_link": true
    },
    "kernelspec": {
      "name": "python3",
      "display_name": "Python 3"
    },
    "language_info": {
      "name": "python"
    },
    "accelerator": "GPU"
  },
  "cells": [
    {
      "cell_type": "markdown",
      "metadata": {
        "id": "view-in-github",
        "colab_type": "text"
      },
      "source": [
        "<a href=\"https://colab.research.google.com/github/HanaeELMEKKI/COMP-6321-Assignment-1/blob/main/Question4/Implementation_Question4.ipynb\" target=\"_parent\"><img src=\"https://colab.research.google.com/assets/colab-badge.svg\" alt=\"Open In Colab\"/></a>"
      ]
    },
    {
      "cell_type": "markdown",
      "source": [
        "# **Exercise Description:**\n",
        "Design and implement a CNN to be used in a task of Medical Image Classification. Given an image of an MRI/CT/X-ray scan, your model is to predict the\n",
        "body part being scanned. Some sample images are shown in the figure below.\n",
        "You should use and download the dataset from Kaggle, which you can reduce\n",
        "to 1000 data points per class. You are required to split the data into train and\n",
        "test sets with 7:3 ratio. You should design and build a simple CNN using PyTorch, and train it on the given dataset for 10 epochs. Report on your design,\n",
        "your choice of hyperparameters, as well as the training accuracy/loss plots.\n",
        "You can use scikit-learn’s classification report tool for numerical analysis.\n"
      ],
      "metadata": {
        "id": "v631oww5UiEQ"
      }
    },
    {
      "cell_type": "code",
      "source": [
        "!wget \"https://raw.githubusercontent.com/HanaeELMEKKI/COMP-6321-Assignment-1/main/Question4/dataset_medical_mnist.zip\"\n",
        "!unzip \"dataset_medical_mnist.zip\";"
      ],
      "metadata": {
        "id": "0Y8KfF_7U1nD"
      },
      "execution_count": null,
      "outputs": []
    },
    {
      "cell_type": "code",
      "execution_count": 8,
      "metadata": {
        "colab": {
          "base_uri": "https://localhost:8080/"
        },
        "id": "Pi5FtOXHUefQ",
        "outputId": "84021dae-0202-4129-a91f-297f606c8c02"
      },
      "outputs": [
        {
          "output_type": "stream",
          "name": "stdout",
          "text": [
            "torch.Size([3, 64, 64]) 0\n",
            "Follwing classes are there : \n",
            " ['AbdomenCT', 'BreastMRI', 'CXR', 'ChestCT', 'Hand', 'HeadCT']\n"
          ]
        }
      ],
      "source": [
        "import torch\n",
        "import torchvision\n",
        "from torchvision import transforms\n",
        "from torchvision.datasets import ImageFolder\n",
        "import matplotlib.pyplot as plt\n",
        "from torch.utils.data.dataloader import DataLoader\n",
        "from torch.utils.data import random_split\n",
        "from torchvision.utils import make_grid\n",
        "import torch.nn as nn\n",
        "import torch.nn.functional as F\n",
        "import sklearn.metrics\n",
        "import numpy as np\n",
        "from prettytable import PrettyTable\n",
        "\n",
        "#train and test data directory\n",
        "data_dir = \"/content/dataset_medical_mnist\"\n",
        "\n",
        "\n",
        "#load the train and test data\n",
        "dataset = ImageFolder(data_dir,transform = transforms.Compose(\n",
        "    [transforms.Resize((64,64)),\n",
        "    transforms.ToTensor()\n",
        "]))\n",
        "\n",
        "img, label = dataset[0]\n",
        "print(img.shape,label)\n",
        "\n",
        "print(\"Follwing classes are there : \\n\",dataset.classes)"
      ]
    },
    {
      "cell_type": "code",
      "source": [
        "#Split dataset\n",
        "train_set,test_set = torch.utils.data.random_split(dataset,[0.7,0.3])\n",
        "\n",
        "train_loader = DataLoader(train_set,shuffle=True,batch_size=50)\n",
        "test_loader = DataLoader(test_set,shuffle=True,batch_size=50)"
      ],
      "metadata": {
        "id": "EHHxxaoJUn_R"
      },
      "execution_count": 30,
      "outputs": []
    },
    {
      "cell_type": "code",
      "source": [
        "#Model\n",
        "torch.manual_seed(0)\n",
        "model = nn.Sequential(\n",
        "\n",
        "          nn.Conv2d(3,32,kernel_size=3,padding=1),\n",
        "          nn.ReLU(),\n",
        "          nn.MaxPool2d(2,2),\n",
        "\n",
        "          nn.Conv2d(32,64,kernel_size=3,padding=1),\n",
        "          torch.nn.ReLU(),\n",
        "          torch.nn.MaxPool2d(2,2),\n",
        "\n",
        "          nn.Conv2d(64,128,kernel_size=3,padding=1),\n",
        "          torch.nn.ReLU(),\n",
        "          torch.nn.MaxPool2d(2,2),\n",
        "\n",
        "          nn.Conv2d(128,256,kernel_size=3,padding=1),\n",
        "          torch.nn.ReLU(),\n",
        "          torch.nn.MaxPool2d(2,2),\n",
        "\n",
        "          nn.Flatten(),\n",
        "\n",
        "          nn.Linear(4096,50), #50x4096\n",
        "          torch.nn.ReLU(),\n",
        "          nn.Linear(50,25), #50x4096\n",
        "          torch.nn.ReLU(),\n",
        "          torch.nn.Linear(25,6)\n",
        "        )"
      ],
      "metadata": {
        "id": "qtjXS5mNUphs"
      },
      "execution_count": 36,
      "outputs": []
    },
    {
      "cell_type": "code",
      "source": [
        "def accuracy(outputs, labels):\n",
        "    _, preds = torch.max(outputs, dim=1)\n",
        "    return torch.tensor(torch.sum(preds == labels).item() / len(preds))"
      ],
      "metadata": {
        "id": "IcLh9TedUrFp"
      },
      "execution_count": 37,
      "outputs": []
    },
    {
      "cell_type": "code",
      "source": [
        "#Train the model\n",
        "loss = nn.CrossEntropyLoss()\n",
        "num_epoch = 10\n",
        "next_epoch = 1\n",
        "optimizer = torch.optim.SGD(model.parameters(), lr=0.01, momentum=0.9)\n",
        "loss_history = []\n",
        "accuracy_history = []\n",
        "for epoch in range(next_epoch, next_epoch+num_epoch):\n",
        "\n",
        "    train_losses = []\n",
        "    train_accuracies = []\n",
        "    for batch in train_loader:\n",
        "        images, labels = batch\n",
        "\n",
        "        label_pred = model(images)\n",
        "        l = loss(label_pred,labels)\n",
        "        train_losses.append(l)\n",
        "\n",
        "        train_accuracies.append(accuracy(label_pred,labels))\n",
        "        model.zero_grad()\n",
        "        l.backward()\n",
        "        optimizer.step()\n",
        "\n",
        "    accuracy_history.append(torch.stack(train_accuracies).mean().item())\n",
        "    loss_history.append(torch.stack(train_losses).mean().item())\n",
        "\n",
        "    print(\"Epoch %2d: loss on final training batch: %.6f\" % (epoch, l.item()))\n",
        "\n",
        "next_epoch = epoch+1"
      ],
      "metadata": {
        "colab": {
          "base_uri": "https://localhost:8080/"
        },
        "id": "yyyPXAc0Us6j",
        "outputId": "609e1107-06ed-4cfd-90a8-4e35e255efb5"
      },
      "execution_count": 38,
      "outputs": [
        {
          "output_type": "stream",
          "name": "stdout",
          "text": [
            "Epoch  1: loss on final training batch: 1.776958\n",
            "Epoch  2: loss on final training batch: 0.269922\n",
            "Epoch  3: loss on final training batch: 0.128843\n",
            "Epoch  4: loss on final training batch: 0.009242\n",
            "Epoch  5: loss on final training batch: 0.111648\n",
            "Epoch  6: loss on final training batch: 0.001065\n",
            "Epoch  7: loss on final training batch: 0.052232\n",
            "Epoch  8: loss on final training batch: 0.029015\n",
            "Epoch  9: loss on final training batch: 0.001131\n",
            "Epoch 10: loss on final training batch: 0.009741\n"
          ]
        }
      ]
    },
    {
      "cell_type": "code",
      "source": [
        "def plot_accuracies(accuracy_history):\n",
        "    \"\"\" Plot the history of accuracies\"\"\"\n",
        "    plt.plot(accuracy_history, '-x')\n",
        "    plt.xlabel('epoch')\n",
        "    plt.ylabel('accuracy')\n",
        "    plt.title('Accuracy vs. No. of epochs');\n",
        "\n",
        "\n",
        "plot_accuracies(accuracy_history)"
      ],
      "metadata": {
        "colab": {
          "base_uri": "https://localhost:8080/",
          "height": 472
        },
        "id": "xXcwJIqcUurw",
        "outputId": "a7a3c235-ff9f-44cf-9c50-b39e17646f2c"
      },
      "execution_count": 39,
      "outputs": [
        {
          "output_type": "display_data",
          "data": {
            "text/plain": [
              "<Figure size 640x480 with 1 Axes>"
            ],
            "image/png": "[encoded data removed]"
          },
          "metadata": {}
        }
      ]
    },
    {
      "cell_type": "code",
      "source": [
        "def plot_losses(loss_history):\n",
        "    \"\"\" Plot the losses in each epoch\"\"\"\n",
        "    plt.plot(loss_history, '-bx')\n",
        "    plt.xlabel('epoch')\n",
        "    plt.ylabel('loss')\n",
        "    plt.legend(['Training'])\n",
        "    plt.title('Loss vs. No. of epochs');\n",
        "\n",
        "plot_losses(loss_history)"
      ],
      "metadata": {
        "colab": {
          "base_uri": "https://localhost:8080/",
          "height": 472
        },
        "id": "f-LgvtUAUwci",
        "outputId": "57291b31-5968-4783-a87e-f37dbd96ac3b"
      },
      "execution_count": 40,
      "outputs": [
        {
          "output_type": "display_data",
          "data": {
            "text/plain": [
              "<Figure size 640x480 with 1 Axes>"
            ],
            "image/png": "[encoded data removed]"
          },
          "metadata": {}
        }
      ]
    },
    {
      "cell_type": "code",
      "source": [
        "#Classification Report\n",
        "table = PrettyTable(zero_division=False)\n",
        "table.field_names = [\"Class\", \"Precision\", \"Recall\", \"F1-Score\", \"Support\"]\n",
        "\n",
        "test_predictions = []\n",
        "test_true_labels = []\n",
        "for batch in test_loader:\n",
        "        images, labels = batch\n",
        "        outputs = model(images)\n",
        "        _, predicted = torch.max(outputs, 1)\n",
        "        test_predictions.extend(predicted.tolist())\n",
        "        test_true_labels.extend(labels.tolist())\n",
        "\n",
        "report = sklearn.metrics.classification_report(test_true_labels, test_predictions, output_dict=True)\n",
        "for label, metrics in report.items():\n",
        "    if label in ['accuracy', 'macro avg', 'weighted avg']:\n",
        "        continue\n",
        "    table.add_row([label, metrics['precision'], metrics['recall'], metrics['f1-score'], metrics['support']])\n",
        "\n",
        "print(f'Classification report: ', {table})"
      ],
      "metadata": {
        "colab": {
          "base_uri": "https://localhost:8080/"
        },
        "id": "zMa9EQ7XUyDJ",
        "outputId": "11eede13-f244-4343-a1c4-4e9102e8e0a1"
      },
      "execution_count": 42,
      "outputs": [
        {
          "output_type": "stream",
          "name": "stdout",
          "text": [
            "Classification report:  {+-------+--------------------+--------------------+--------------------+---------+\n",
            "| Class |     Precision      |       Recall       |      F1-Score      | Support |\n",
            "+-------+--------------------+--------------------+--------------------+---------+\n",
            "|   0   |        1.0         |        1.0         |        1.0         |   308   |\n",
            "|   1   |        1.0         |        1.0         |        1.0         |   298   |\n",
            "|   2   | 0.9927007299270073 | 0.9819494584837545 | 0.9872958257713249 |   277   |\n",
            "|   3   |        1.0         |        1.0         |        1.0         |   328   |\n",
            "|   4   | 0.9716312056737588 | 0.9927536231884058 | 0.9820788530465949 |   276   |\n",
            "|   5   |        1.0         | 0.9904153354632588 | 0.9951845906902087 |   313   |\n",
            "+-------+--------------------+--------------------+--------------------+---------+}\n"
          ]
        }
      ]
    }
  ]
}