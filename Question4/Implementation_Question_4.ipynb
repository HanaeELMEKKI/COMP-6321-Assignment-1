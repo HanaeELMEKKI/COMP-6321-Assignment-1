{
  "nbformat": 4,
  "nbformat_minor": 0,
  "metadata": {
    "colab": {
      "provenance": [],
      "authorship_tag": "ABX9TyPiriXO+7+ViXdcoZgQN/7N",
      "include_colab_link": true
    },
    "kernelspec": {
      "name": "python3",
      "display_name": "Python 3"
    },
    "language_info": {
      "name": "python"
    }
  },
  "cells": [
    {
      "cell_type": "markdown",
      "metadata": {
        "id": "view-in-github",
        "colab_type": "text"
      },
      "source": [
        "<a href=\"https://colab.research.google.com/github/HanaeELMEKKI/COMP-6321-Assignment-1/blob/main/Question4/Implementation_Question_4.ipynb\" target=\"_parent\"><img src=\"https://colab.research.google.com/assets/colab-badge.svg\" alt=\"Open In Colab\"/></a>"
      ]
    },
    {
      "cell_type": "markdown",
      "source": [
        "# **Exercise Description:**\n",
        "Design and implement a CNN to be used in a task of Medical Image Classification. Given an image of an MRI/CT/X-ray scan, your model is to predict the\n",
        "body part being scanned. Some sample images are shown in the figure below.\n",
        "You should use and download the dataset from Kaggle, which you can reduce\n",
        "to 1000 data points per class. You are required to split the data into train and\n",
        "test sets with 7:3 ratio. You should design and build a simple CNN using PyTorch, and train it on the given dataset for 10 epochs. Report on your design,\n",
        "your choice of hyperparameters, as well as the training accuracy/loss plots.\n",
        "You can use scikit-learn’s classification report tool for numerical analysis."
      ],
      "metadata": {
        "id": "CSc5opf5ZMGr"
      }
    },
    {
      "cell_type": "code",
      "execution_count": null,
      "metadata": {
        "id": "uvOtb80jY2dY"
      },
      "outputs": [],
      "source": [
        "!wget \"https://raw.githubusercontent.com/HanaeELMEKKI/COMP-6321-Assignment-1/main/Question4/dataset_medical_mnist.zip\"\n",
        "!unzip \"dataset_medical_mnist.zip\""
      ]
    },
    {
      "cell_type": "code",
      "source": [
        "import torch\n",
        "import torchvision\n",
        "from torchvision import transforms\n",
        "from torchvision.datasets import ImageFolder\n",
        "import matplotlib.pyplot as plt\n",
        "from torch.utils.data.dataloader import DataLoader\n",
        "from torch.utils.data import random_split\n",
        "from torchvision.utils import make_grid\n",
        "import torch.nn as nn\n",
        "import torch.nn.functional as F\n",
        "import sklearn.metrics\n",
        "import numpy as np\n",
        "from prettytable import PrettyTable\n",
        "\n",
        "#train and test data directory\n",
        "data_dir = \"/content/dataset_medical_mnist\"\n",
        "\n",
        "\n",
        "#load the train and test data\n",
        "dataset = ImageFolder(data_dir,transforms.ToTensor())\n",
        "\n",
        "img, label = dataset[0]\n",
        "print(img.shape,label)\n",
        "\n",
        "print(\"Follwing classes are there : \\n\",dataset.classes)"
      ],
      "metadata": {
        "colab": {
          "base_uri": "https://localhost:8080/"
        },
        "id": "e-D-Gasmp9kl",
        "outputId": "cdd1ef38-d1c3-41a5-b273-6c3f31c03085"
      },
      "execution_count": 76,
      "outputs": [
        {
          "output_type": "stream",
          "name": "stdout",
          "text": [
            "torch.Size([3, 64, 64]) 0\n",
            "Follwing classes are there : \n",
            " ['AbdomenCT', 'BreastMRI', 'CXR', 'ChestCT', 'Hand', 'HeadCT']\n"
          ]
        }
      ]
    },
    {
      "cell_type": "code",
      "source": [
        "#Split dataset\n",
        "train_set,test_set = torch.utils.data.random_split(dataset,[0.7,0.3])\n",
        "\n",
        "train_loader = DataLoader(train_set,shuffle=True,batch_size=16)\n",
        "test_loader = DataLoader(test_set,shuffle=True,batch_size=16)"
      ],
      "metadata": {
        "id": "3iIgsRoIqfUO"
      },
      "execution_count": 16,
      "outputs": []
    },
    {
      "cell_type": "code",
      "source": [
        "#Model\n",
        "model = nn.Sequential(\n",
        "\n",
        "          nn.Conv2d(3,32,kernel_size=3,padding=1),\n",
        "          nn.ReLU(),\n",
        "          nn.MaxPool2d(2,2),\n",
        "\n",
        "          nn.Conv2d(32,64,kernel_size=3,padding=1),\n",
        "          torch.nn.ReLU(),\n",
        "          torch.nn.MaxPool2d(2,2),\n",
        "\n",
        "          nn.Conv2d(64,128,kernel_size=3,padding=1),\n",
        "          torch.nn.ReLU(),\n",
        "          torch.nn.MaxPool2d(2,2),\n",
        "\n",
        "          nn.Flatten(),\n",
        "\n",
        "          nn.Linear(8192,16),\n",
        "          torch.nn.ReLU(),\n",
        "          torch.nn.Linear(16,6)\n",
        "        )"
      ],
      "metadata": {
        "id": "V1fDA8jfrD4U"
      },
      "execution_count": 41,
      "outputs": []
    },
    {
      "cell_type": "code",
      "source": [
        "def accuracy(outputs, labels):\n",
        "    _, preds = torch.max(outputs, dim=1)\n",
        "    return torch.tensor(torch.sum(preds == labels).item() / len(preds))"
      ],
      "metadata": {
        "id": "jcQrITTV_lBw"
      },
      "execution_count": 50,
      "outputs": []
    },
    {
      "cell_type": "code",
      "source": [
        "#Train the model\n",
        "loss = nn.CrossEntropyLoss()\n",
        "num_epoch = 10\n",
        "next_epoch = 1\n",
        "optimizer = torch.optim.SGD(model.parameters(), lr=0.01, momentum=0.9)\n",
        "loss_history = []\n",
        "accuracy_history = []\n",
        "for epoch in range(next_epoch, next_epoch+num_epoch):\n",
        "\n",
        "    train_losses = []\n",
        "    train_accuracies = []\n",
        "    # Make an entire pass (an 'epoch') over the training data in batch_size chunks\n",
        "    for batch in train_loader:\n",
        "        images, labels = batch\n",
        "\n",
        "        label_pred = model(images)          # Make predictions\n",
        "        l = loss(label_pred,labels)                 # Compute loss with respect to predictions\n",
        "        train_losses.append(l)\n",
        "\n",
        "        train_accuracies.append(accuracy(label_pred,labels))\n",
        "        model.zero_grad()                   # Reset all gradient accumulators to zero (PyTorch thing)\n",
        "        l.backward()                        # Compute gradient of loss wrt all parameters (backprop!)\n",
        "        optimizer.step()                    # Use the gradients to take a step with SGD.\n",
        "\n",
        "    accuracy_history.append(torch.stack(train_accuracies).mean().item())\n",
        "    loss_history.append(torch.stack(train_losses).mean().item())\n",
        "\n",
        "    print(\"Epoch %2d: loss on final training batch: %.4f\" % (epoch, l.item()))\n",
        "\n",
        "#print(\"Epoch %2d: loss on test set: %.4f\" % (epoch, loss(model(test_set), y_tst_torch)))\n",
        "next_epoch = epoch+1"
      ],
      "metadata": {
        "colab": {
          "base_uri": "https://localhost:8080/"
        },
        "id": "UwilO5z-rQqi",
        "outputId": "ad6c3603-5392-4d68-b497-892e60f5f949"
      },
      "execution_count": 63,
      "outputs": [
        {
          "output_type": "stream",
          "name": "stdout",
          "text": [
            "Epoch  1: loss on final training batch: 0.0000\n",
            "Epoch  2: loss on final training batch: 0.0000\n",
            "Epoch  3: loss on final training batch: 0.0000\n",
            "Epoch  4: loss on final training batch: 0.0000\n",
            "Epoch  5: loss on final training batch: 0.0000\n",
            "Epoch  6: loss on final training batch: 0.0000\n",
            "Epoch  7: loss on final training batch: 0.0000\n",
            "Epoch  8: loss on final training batch: 0.0000\n",
            "Epoch  9: loss on final training batch: 0.0000\n",
            "Epoch 10: loss on final training batch: 0.0000\n"
          ]
        }
      ]
    },
    {
      "cell_type": "code",
      "source": [
        "def plot_accuracies(accuracy_history):\n",
        "    \"\"\" Plot the history of accuracies\"\"\"\n",
        "    plt.plot(accuracy_history, '-x')\n",
        "    plt.xlabel('epoch')\n",
        "    plt.ylabel('accuracy')\n",
        "    plt.title('Accuracy vs. No. of epochs');\n",
        "\n",
        "\n",
        "plot_accuracies(accuracy_history)"
      ],
      "metadata": {
        "colab": {
          "base_uri": "https://localhost:8080/",
          "height": 489
        },
        "id": "0MUCUgCGBPY4",
        "outputId": "c329ba19-77ab-4916-b372-664ccda465f0"
      },
      "execution_count": 67,
      "outputs": [
        {
          "output_type": "stream",
          "name": "stdout",
          "text": [
            "[1.0, 1.0, 1.0, 1.0, 1.0, 1.0, 1.0, 1.0, 1.0, 1.0]\n"
          ]
        },
        {
          "output_type": "display_data",
          "data": {
            "text/plain": [
              "<Figure size 640x480 with 1 Axes>"
            ],
            "image/png": "[encoded data removed]"
          },
          "metadata": {}
        }
      ]
    },
    {
      "cell_type": "code",
      "source": [
        "def plot_losses(loss_history):\n",
        "    \"\"\" Plot the losses in each epoch\"\"\"\n",
        "    plt.plot(loss_history, '-bx')\n",
        "    plt.xlabel('epoch')\n",
        "    plt.ylabel('loss')\n",
        "    plt.legend(['Training'])\n",
        "    plt.title('Loss vs. No. of epochs');\n",
        "\n",
        "plot_losses(loss_history)"
      ],
      "metadata": {
        "colab": {
          "base_uri": "https://localhost:8080/",
          "height": 472
        },
        "id": "jYefzoAY9ahn",
        "outputId": "d0891186-3cbd-4416-f4ab-9eff4d77ba8d"
      },
      "execution_count": 66,
      "outputs": [
        {
          "output_type": "display_data",
          "data": {
            "text/plain": [
              "<Figure size 640x480 with 1 Axes>"
            ],
            "image/png": "[encoded data removed]"
          },
          "metadata": {}
        }
      ]
    },
    {
      "cell_type": "code",
      "source": [
        "#Classification Report\n",
        "table = PrettyTable()\n",
        "table.field_names = [\"Class\", \"Precision\", \"Recall\", \"F1-Score\", \"Support\"]\n",
        "\n",
        "test_predictions = []\n",
        "test_true_labels = []\n",
        "for batch in test_loader:\n",
        "        images, labels = batch\n",
        "        outputs = model(images)\n",
        "        _, predicted = torch.max(outputs, 1)\n",
        "        test_predictions.extend(predicted.tolist())\n",
        "        test_true_labels.extend(labels.tolist())\n",
        "\n",
        "report = sklearn.metrics.classification_report(test_true_labels, test_predictions, output_dict=True)\n",
        "for label, metrics in report.items():\n",
        "    if label in ['accuracy', 'macro avg', 'weighted avg']:\n",
        "        continue\n",
        "    table.add_row([label, metrics['precision'], metrics['recall'], metrics['f1-score'], metrics['support']])\n",
        "\n",
        "print(f'Classification report: ', {table})"
      ],
      "metadata": {
        "colab": {
          "base_uri": "https://localhost:8080/"
        },
        "id": "lX4B7iee8Kej",
        "outputId": "be476362-aac1-45e9-8965-bbd63e795bec"
      },
      "execution_count": 78,
      "outputs": [
        {
          "output_type": "stream",
          "name": "stdout",
          "text": [
            "Classification report:  {+-------+--------------------+--------------------+--------------------+---------+\n",
            "| Class |     Precision      |       Recall       |      F1-Score      | Support |\n",
            "+-------+--------------------+--------------------+--------------------+---------+\n",
            "|   0   | 0.9935483870967742 |        1.0         | 0.9967637540453074 |   308   |\n",
            "|   1   |        1.0         |        1.0         |        1.0         |   288   |\n",
            "|   2   | 0.9927007299270073 | 0.9819494584837545 | 0.9872958257713249 |   277   |\n",
            "|   3   | 0.9866220735785953 |        1.0         | 0.9932659932659933 |   295   |\n",
            "|   4   | 0.9969604863221885 | 0.9879518072289156 | 0.9924357034795764 |   332   |\n",
            "|   5   |        1.0         |        1.0         |        1.0         |   300   |\n",
            "+-------+--------------------+--------------------+--------------------+---------+}\n"
          ]
        }
      ]
    }
  ]
}