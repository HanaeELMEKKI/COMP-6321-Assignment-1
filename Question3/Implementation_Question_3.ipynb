{
  "nbformat": 4,
  "nbformat_minor": 0,
  "metadata": {
    "colab": {
      "provenance": [],
      "gpuType": "T4",
      "authorship_tag": "ABX9TyM9Fgff7pkHzTrhm5552jXf",
      "include_colab_link": true
    },
    "kernelspec": {
      "name": "python3",
      "display_name": "Python 3"
    },
    "language_info": {
      "name": "python"
    },
    "accelerator": "GPU"
  },
  "cells": [
    {
      "cell_type": "markdown",
      "metadata": {
        "id": "view-in-github",
        "colab_type": "text"
      },
      "source": [
        "<a href=\"https://colab.research.google.com/github/HanaeELMEKKI/COMP-6321-Assignment-1/blob/main/Question3/Implementation_Question_3.ipynb\" target=\"_parent\"><img src=\"https://colab.research.google.com/assets/colab-badge.svg\" alt=\"Open In Colab\"/></a>"
      ]
    },
    {
      "cell_type": "markdown",
      "source": [
        "# **Exercise Description:**\n",
        "Design and train two neural networks to tackle the regression and classification\n",
        "tasks in Question 1 and Question 2. Use the same datasets and train-test\n",
        "split ratio. Build and train neural networks using PyTorch. Report on the\n",
        "performance of the NN models, and compare them with the models developed\n",
        "using Linear Regression and Logistic Regression."
      ],
      "metadata": {
        "id": "c-PePICZOtV_"
      }
    },
    {
      "cell_type": "code",
      "execution_count": null,
      "metadata": {
        "id": "aSJXMOf_5rfR"
      },
      "outputs": [],
      "source": [
        "import pandas as pd\n",
        "from sklearn.model_selection import train_test_split\n",
        "import torch\n",
        "import torch.nn as nn\n",
        "import torch.optim as optim\n",
        "from sklearn.preprocessing import LabelEncoder\n",
        "from sklearn.preprocessing import StandardScaler\n",
        "import matplotlib.pyplot as plt\n",
        "import random\n",
        "import numpy as np"
      ]
    },
    {
      "cell_type": "markdown",
      "source": [
        "# **Classification:**"
      ],
      "metadata": {
        "id": "Zfd3I3KM_0Bp"
      }
    },
    {
      "cell_type": "code",
      "source": [
        "#read cvs file into dataframe\n",
        "df = pd.read_csv(\"https://raw.githubusercontent.com/HanaeELMEKKI/COMP-6321-Assignment-1/main/Question2/lung_cancer_dataset.csv\")"
      ],
      "metadata": {
        "id": "TyudFtBh7Ek1"
      },
      "execution_count": null,
      "outputs": []
    },
    {
      "cell_type": "code",
      "source": [
        "label_encoder = LabelEncoder()\n",
        "df['GENDER'] = label_encoder.fit_transform(df['GENDER'])\n",
        "df['LUNG_CANCER'] = label_encoder.fit_transform(df['LUNG_CANCER'])"
      ],
      "metadata": {
        "id": "mTUUmbAR7_zb"
      },
      "execution_count": null,
      "outputs": []
    },
    {
      "cell_type": "code",
      "source": [
        "#Normalization\n",
        "df_trn, df_tst = train_test_split( df, test_size=0.3,random_state=46)\n",
        "X_trn = df_trn.drop(columns=['LUNG_CANCER'])\n",
        "y_trn = df_trn['LUNG_CANCER']\n",
        "\n",
        "X_tst = df_tst.drop(columns=['LUNG_CANCER'])\n",
        "y_tst = df_tst['LUNG_CANCER']\n",
        "\n",
        "scaler = StandardScaler()\n",
        "X_trn = scaler.fit_transform(X_trn)\n",
        "X_tst = scaler.transform(X_tst)\n",
        "\n",
        "#y_trn = scaler.fit_transform(y_trn.values.reshape(-1, 1))\n",
        "#y_tst = scaler.fit_transform(y_tst.values.reshape(-1, 1))"
      ],
      "metadata": {
        "id": "DXCUBLWqEbyw"
      },
      "execution_count": null,
      "outputs": []
    },
    {
      "cell_type": "code",
      "source": [
        "X_trn_torch = torch.tensor (X_trn, dtype=torch.float32)\n",
        "y_trn_torch = torch.tensor (y_trn.values, dtype=torch.float32).reshape(-1,1)\n",
        "X_tst_torch = torch.tensor (X_tst, dtype=torch.float32)\n",
        "y_tst_torch = torch.tensor (y_tst.values, dtype=torch.float32).reshape(-1,1)"
      ],
      "metadata": {
        "id": "uuw_kz1vvEUZ"
      },
      "execution_count": null,
      "outputs": []
    },
    {
      "cell_type": "code",
      "source": [
        "# Define the Model\n",
        "model = nn.Sequential(\n",
        "    nn.Linear(15, 20),\n",
        "    nn.ReLU(),\n",
        "    nn.Linear(20, 10),\n",
        "    nn.ReLU(),\n",
        "    nn.Linear(10, 5),\n",
        "    nn.ReLU(),\n",
        "    nn.Linear(5, 1),\n",
        ")\n",
        "\n",
        "# Train the model\n",
        "seed = 0\n",
        "torch.manual_seed(seed)\n",
        "\n",
        "history = []\n",
        "loss_bce = nn.BCEWithLogitsLoss()  # Binary Cross Entropy Loss\n",
        "optimizer = torch.optim.SGD(model.parameters(), lr=0.01, momentum=0.9)\n",
        "\n",
        "# Training the model\n",
        "epochs = 100\n",
        "batch_size = 100\n",
        "for epoch in range(epochs):\n",
        "    for i in range(0, len(X_trn), batch_size):\n",
        "        X = X_trn_torch[i:i+batch_size]\n",
        "        y = y_trn_torch[i:i+batch_size]\n",
        "\n",
        "        y_pred = model(X)\n",
        "        l = loss_bce(y_pred, y)\n",
        "\n",
        "        model.zero_grad()\n",
        "        l.backward()\n",
        "        optimizer.step()\n",
        "    history.append(l.item())\n",
        "\n",
        "    print(\"Epoch %2d: loss on final training batch: %.4f\" % (epoch, l.item()))\n",
        "\n",
        "print(\"Loss on test set: %.4f\" % (loss_bce(model(X_tst_torch), y_tst_torch)))\n",
        "plt.plot(history)\n",
        "plt.show()"
      ],
      "metadata": {
        "id": "x9LLC0DsAUi8",
        "colab": {
          "base_uri": "https://localhost:8080/",
          "height": 1000
        },
        "outputId": "4ad0fa98-05f6-4f34-cd7d-2d3c7a9692a8"
      },
      "execution_count": null,
      "outputs": [
        {
          "output_type": "stream",
          "name": "stdout",
          "text": [
            "Epoch  0: loss on final training batch: 0.7000\n",
            "Epoch  1: loss on final training batch: 0.6825\n",
            "Epoch  2: loss on final training batch: 0.6567\n",
            "Epoch  3: loss on final training batch: 0.6255\n",
            "Epoch  4: loss on final training batch: 0.5921\n",
            "Epoch  5: loss on final training batch: 0.5585\n",
            "Epoch  6: loss on final training batch: 0.5266\n",
            "Epoch  7: loss on final training batch: 0.4973\n",
            "Epoch  8: loss on final training batch: 0.4711\n",
            "Epoch  9: loss on final training batch: 0.4482\n",
            "Epoch 10: loss on final training batch: 0.4283\n",
            "Epoch 11: loss on final training batch: 0.4114\n",
            "Epoch 12: loss on final training batch: 0.3972\n",
            "Epoch 13: loss on final training batch: 0.3854\n",
            "Epoch 14: loss on final training batch: 0.3756\n",
            "Epoch 15: loss on final training batch: 0.3675\n",
            "Epoch 16: loss on final training batch: 0.3607\n",
            "Epoch 17: loss on final training batch: 0.3548\n",
            "Epoch 18: loss on final training batch: 0.3497\n",
            "Epoch 19: loss on final training batch: 0.3450\n",
            "Epoch 20: loss on final training batch: 0.3406\n",
            "Epoch 21: loss on final training batch: 0.3365\n",
            "Epoch 22: loss on final training batch: 0.3328\n",
            "Epoch 23: loss on final training batch: 0.3292\n",
            "Epoch 24: loss on final training batch: 0.3257\n",
            "Epoch 25: loss on final training batch: 0.3222\n",
            "Epoch 26: loss on final training batch: 0.3193\n",
            "Epoch 27: loss on final training batch: 0.3163\n",
            "Epoch 28: loss on final training batch: 0.3132\n",
            "Epoch 29: loss on final training batch: 0.3101\n",
            "Epoch 30: loss on final training batch: 0.3068\n",
            "Epoch 31: loss on final training batch: 0.3034\n",
            "Epoch 32: loss on final training batch: 0.3000\n",
            "Epoch 33: loss on final training batch: 0.2966\n",
            "Epoch 34: loss on final training batch: 0.2931\n",
            "Epoch 35: loss on final training batch: 0.2895\n",
            "Epoch 36: loss on final training batch: 0.2859\n",
            "Epoch 37: loss on final training batch: 0.2820\n",
            "Epoch 38: loss on final training batch: 0.2780\n",
            "Epoch 39: loss on final training batch: 0.2739\n",
            "Epoch 40: loss on final training batch: 0.2697\n",
            "Epoch 41: loss on final training batch: 0.2654\n",
            "Epoch 42: loss on final training batch: 0.2609\n",
            "Epoch 43: loss on final training batch: 0.2562\n",
            "Epoch 44: loss on final training batch: 0.2514\n",
            "Epoch 45: loss on final training batch: 0.2465\n",
            "Epoch 46: loss on final training batch: 0.2413\n",
            "Epoch 47: loss on final training batch: 0.2361\n",
            "Epoch 48: loss on final training batch: 0.2306\n",
            "Epoch 49: loss on final training batch: 0.2250\n",
            "Epoch 50: loss on final training batch: 0.2192\n",
            "Epoch 51: loss on final training batch: 0.2136\n",
            "Epoch 52: loss on final training batch: 0.2089\n",
            "Epoch 53: loss on final training batch: 0.2042\n",
            "Epoch 54: loss on final training batch: 0.1993\n",
            "Epoch 55: loss on final training batch: 0.1945\n",
            "Epoch 56: loss on final training batch: 0.1896\n",
            "Epoch 57: loss on final training batch: 0.1848\n",
            "Epoch 58: loss on final training batch: 0.1801\n",
            "Epoch 59: loss on final training batch: 0.1754\n",
            "Epoch 60: loss on final training batch: 0.1708\n",
            "Epoch 61: loss on final training batch: 0.1668\n",
            "Epoch 62: loss on final training batch: 0.1628\n",
            "Epoch 63: loss on final training batch: 0.1588\n",
            "Epoch 64: loss on final training batch: 0.1552\n",
            "Epoch 65: loss on final training batch: 0.1526\n",
            "Epoch 66: loss on final training batch: 0.1501\n",
            "Epoch 67: loss on final training batch: 0.1477\n",
            "Epoch 68: loss on final training batch: 0.1454\n",
            "Epoch 69: loss on final training batch: 0.1431\n",
            "Epoch 70: loss on final training batch: 0.1410\n",
            "Epoch 71: loss on final training batch: 0.1390\n",
            "Epoch 72: loss on final training batch: 0.1370\n",
            "Epoch 73: loss on final training batch: 0.1351\n",
            "Epoch 74: loss on final training batch: 0.1333\n",
            "Epoch 75: loss on final training batch: 0.1315\n",
            "Epoch 76: loss on final training batch: 0.1298\n",
            "Epoch 77: loss on final training batch: 0.1281\n",
            "Epoch 78: loss on final training batch: 0.1264\n",
            "Epoch 79: loss on final training batch: 0.1248\n",
            "Epoch 80: loss on final training batch: 0.1233\n",
            "Epoch 81: loss on final training batch: 0.1218\n",
            "Epoch 82: loss on final training batch: 0.1203\n",
            "Epoch 83: loss on final training batch: 0.1189\n",
            "Epoch 84: loss on final training batch: 0.1175\n",
            "Epoch 85: loss on final training batch: 0.1161\n",
            "Epoch 86: loss on final training batch: 0.1148\n",
            "Epoch 87: loss on final training batch: 0.1135\n",
            "Epoch 88: loss on final training batch: 0.1122\n",
            "Epoch 89: loss on final training batch: 0.1109\n",
            "Epoch 90: loss on final training batch: 0.1097\n",
            "Epoch 91: loss on final training batch: 0.1085\n",
            "Epoch 92: loss on final training batch: 0.1073\n",
            "Epoch 93: loss on final training batch: 0.1061\n",
            "Epoch 94: loss on final training batch: 0.1050\n",
            "Epoch 95: loss on final training batch: 0.1038\n",
            "Epoch 96: loss on final training batch: 0.1027\n",
            "Epoch 97: loss on final training batch: 0.1016\n",
            "Epoch 98: loss on final training batch: 0.1006\n",
            "Epoch 99: loss on final training batch: 0.0995\n",
            "Loss on test set: 0.1610\n"
          ]
        },
        {
          "output_type": "display_data",
          "data": {
            "text/plain": [
              "<Figure size 640x480 with 1 Axes>"
            ],
            "image/png": "[encoded data removed]"
          },
          "metadata": {}
        }
      ]
    },
    {
      "cell_type": "code",
      "source": [
        "model.eval()\n",
        "with torch.no_grad():\n",
        "    outputs = model(X_tst_torch)\n",
        "\n",
        "# Convert predictions and true labels to 0s and 1s\n",
        "predictions = (outputs > 0.5).float()  # Assuming threshold of 0.5 for binary classification\n",
        "true_labels = y_tst_torch\n",
        "\n",
        "# Calculate accuracy\n",
        "correct = (predictions == true_labels).sum().item()\n",
        "total = true_labels.size(0)\n",
        "accuracy = correct / len(y_tst_torch)\n",
        "\n",
        "print(f'Test Accuracy: {accuracy * 100:.2f}%')"
      ],
      "metadata": {
        "colab": {
          "base_uri": "https://localhost:8080/"
        },
        "id": "jDjIZ6DGclV5",
        "outputId": "95a7602c-3f00-496d-f7ac-979005375d9d"
      },
      "execution_count": null,
      "outputs": [
        {
          "output_type": "stream",
          "name": "stdout",
          "text": [
            "Test Accuracy: 93.55%\n"
          ]
        }
      ]
    },
    {
      "cell_type": "markdown",
      "source": [
        "# **Regression**"
      ],
      "metadata": {
        "id": "iI0xDW4Q_5M0"
      }
    },
    {
      "cell_type": "code",
      "source": [
        "#read cvs file into dataframe\n",
        "df = pd.read_csv(\"https://raw.githubusercontent.com/HanaeELMEKKI/COMP-6321-Assignment-1/main/Question1/Health_Insurance_Dataset.csv\")"
      ],
      "metadata": {
        "id": "9Qdt1ggiOQ2R"
      },
      "execution_count": null,
      "outputs": []
    },
    {
      "cell_type": "code",
      "source": [
        "label_encoder = LabelEncoder()\n",
        "df['sex'] = label_encoder.fit_transform(df['sex'])\n",
        "df['region'] = label_encoder.fit_transform(df['region'])\n",
        "df['smoker'] = label_encoder.fit_transform(df['smoker'])"
      ],
      "metadata": {
        "id": "z1w8BzJ4O3uy"
      },
      "execution_count": null,
      "outputs": []
    },
    {
      "cell_type": "code",
      "source": [
        "#Normalization\n",
        "\n",
        "df_trn, df_tst = train_test_split( df, test_size=0.3,random_state=46)\n",
        "X_trn = df_trn.drop(columns=['charges'])\n",
        "y_trn = df_trn['charges']\n",
        "\n",
        "X_tst = df_tst.drop(columns=['charges'])\n",
        "y_tst = df_tst['charges']\n",
        "\n",
        "scaler = StandardScaler()\n",
        "X_trn = scaler.fit_transform(X_trn)\n",
        "X_tst = scaler.transform(X_tst)\n",
        "y_trn = scaler.fit_transform(y_trn.values.reshape(-1, 1))\n",
        "y_tst = scaler.fit_transform(y_tst.values.reshape(-1, 1))"
      ],
      "metadata": {
        "id": "ZhlSL89IPCIv"
      },
      "execution_count": null,
      "outputs": []
    },
    {
      "cell_type": "code",
      "source": [
        "X_trn_torch = torch.tensor (X_trn, dtype=torch.float32)\n",
        "y_trn_torch = torch.tensor (y_trn, dtype=torch.float32).reshape(-1,1)\n",
        "X_tst_torch = torch.tensor (X_tst, dtype=torch.float32)\n",
        "y_tst_torch = torch.tensor (y_tst, dtype=torch.float32).reshape(-1,1)"
      ],
      "metadata": {
        "id": "N6hprVD0PLwm"
      },
      "execution_count": null,
      "outputs": []
    },
    {
      "cell_type": "code",
      "source": [
        "# Define the Model\n",
        "model = nn.Sequential(\n",
        "    nn.Linear(6, 12),\n",
        "    nn.ReLU(),\n",
        "    nn.Linear(12, 4),\n",
        "    nn.ReLU(),\n",
        "    nn.Linear(4, 2),\n",
        "    nn.ReLU(),\n",
        "    nn.Linear(2, 1)\n",
        ")\n",
        "\n",
        "# Train the model\n",
        "history_regression = []\n",
        "torch.manual_seed(0)\n",
        "loss_mse = nn.MSELoss()  # Mean Square Error\n",
        "optimizer = torch.optim.SGD(model.parameters(),lr=0.01, momentum=0.9)\n",
        "batch_size = 100\n",
        "\n",
        "# Training the model\n",
        "epochs = 100\n",
        "for epoch in range(epochs):\n",
        "\n",
        "    for i in range(0, len(X_trn), batch_size):\n",
        "        X = X_trn_torch[i:i+batch_size]\n",
        "        y = y_trn_torch[i:i+batch_size]\n",
        "\n",
        "        y_pred = model(X)\n",
        "        l = loss_mse(y_pred, y)\n",
        "\n",
        "        model.zero_grad()\n",
        "        l.backward()\n",
        "        optimizer.step()\n",
        "    history_regression.append(l.item())\n",
        "\n",
        "    print(\"Epoch %2d: loss on final training batch: %.4f\" % (epoch, l.item()))\n",
        "\n",
        "print(\"Loss on test set: %.4f\" % (loss_mse(model(X_tst_torch), y_tst_torch)))\n",
        "plt.plot(history_regression)\n",
        "plt.show()"
      ],
      "metadata": {
        "colab": {
          "base_uri": "https://localhost:8080/",
          "height": 1000
        },
        "id": "B-Fb6-dwPUmL",
        "outputId": "058767dd-675d-46d8-e222-054c4108f46e"
      },
      "execution_count": null,
      "outputs": [
        {
          "output_type": "stream",
          "name": "stdout",
          "text": [
            "Epoch  0: loss on final training batch: 0.6503\n",
            "Epoch  1: loss on final training batch: 0.6706\n",
            "Epoch  2: loss on final training batch: 0.6651\n",
            "Epoch  3: loss on final training batch: 0.6488\n",
            "Epoch  4: loss on final training batch: 0.6471\n",
            "Epoch  5: loss on final training batch: 0.6495\n",
            "Epoch  6: loss on final training batch: 0.6507\n",
            "Epoch  7: loss on final training batch: 0.6492\n",
            "Epoch  8: loss on final training batch: 0.6476\n",
            "Epoch  9: loss on final training batch: 0.6464\n",
            "Epoch 10: loss on final training batch: 0.6442\n",
            "Epoch 11: loss on final training batch: 0.6403\n",
            "Epoch 12: loss on final training batch: 0.6334\n",
            "Epoch 13: loss on final training batch: 0.6182\n",
            "Epoch 14: loss on final training batch: 0.5885\n",
            "Epoch 15: loss on final training batch: 0.5305\n",
            "Epoch 16: loss on final training batch: 0.4293\n",
            "Epoch 17: loss on final training batch: 0.3336\n",
            "Epoch 18: loss on final training batch: 0.2747\n",
            "Epoch 19: loss on final training batch: 0.2725\n",
            "Epoch 20: loss on final training batch: 0.2811\n",
            "Epoch 21: loss on final training batch: 0.2853\n",
            "Epoch 22: loss on final training batch: 0.2864\n",
            "Epoch 23: loss on final training batch: 0.2732\n",
            "Epoch 24: loss on final training batch: 0.2347\n",
            "Epoch 25: loss on final training batch: 0.2167\n",
            "Epoch 26: loss on final training batch: 0.2050\n",
            "Epoch 27: loss on final training batch: 0.1936\n",
            "Epoch 28: loss on final training batch: 0.1845\n",
            "Epoch 29: loss on final training batch: 0.1793\n",
            "Epoch 30: loss on final training batch: 0.1759\n",
            "Epoch 31: loss on final training batch: 0.1742\n",
            "Epoch 32: loss on final training batch: 0.1738\n",
            "Epoch 33: loss on final training batch: 0.1754\n",
            "Epoch 34: loss on final training batch: 0.1781\n",
            "Epoch 35: loss on final training batch: 0.1810\n",
            "Epoch 36: loss on final training batch: 0.1829\n",
            "Epoch 37: loss on final training batch: 0.1849\n",
            "Epoch 38: loss on final training batch: 0.1867\n",
            "Epoch 39: loss on final training batch: 0.1873\n",
            "Epoch 40: loss on final training batch: 0.1895\n",
            "Epoch 41: loss on final training batch: 0.1906\n",
            "Epoch 42: loss on final training batch: 0.1916\n",
            "Epoch 43: loss on final training batch: 0.1922\n",
            "Epoch 44: loss on final training batch: 0.1933\n",
            "Epoch 45: loss on final training batch: 0.1923\n",
            "Epoch 46: loss on final training batch: 0.1903\n",
            "Epoch 47: loss on final training batch: 0.1878\n",
            "Epoch 48: loss on final training batch: 0.1854\n",
            "Epoch 49: loss on final training batch: 0.1836\n",
            "Epoch 50: loss on final training batch: 0.1821\n",
            "Epoch 51: loss on final training batch: 0.1800\n",
            "Epoch 52: loss on final training batch: 0.1783\n",
            "Epoch 53: loss on final training batch: 0.1761\n",
            "Epoch 54: loss on final training batch: 0.1747\n",
            "Epoch 55: loss on final training batch: 0.1741\n",
            "Epoch 56: loss on final training batch: 0.1727\n",
            "Epoch 57: loss on final training batch: 0.1715\n",
            "Epoch 58: loss on final training batch: 0.1693\n",
            "Epoch 59: loss on final training batch: 0.1693\n",
            "Epoch 60: loss on final training batch: 0.1675\n",
            "Epoch 61: loss on final training batch: 0.1662\n",
            "Epoch 62: loss on final training batch: 0.1650\n",
            "Epoch 63: loss on final training batch: 0.1654\n",
            "Epoch 64: loss on final training batch: 0.1642\n",
            "Epoch 65: loss on final training batch: 0.1617\n",
            "Epoch 66: loss on final training batch: 0.1613\n",
            "Epoch 67: loss on final training batch: 0.1607\n",
            "Epoch 68: loss on final training batch: 0.1602\n",
            "Epoch 69: loss on final training batch: 0.1590\n",
            "Epoch 70: loss on final training batch: 0.1574\n",
            "Epoch 71: loss on final training batch: 0.1571\n",
            "Epoch 72: loss on final training batch: 0.1568\n",
            "Epoch 73: loss on final training batch: 0.1570\n",
            "Epoch 74: loss on final training batch: 0.1550\n",
            "Epoch 75: loss on final training batch: 0.1550\n",
            "Epoch 76: loss on final training batch: 0.1550\n",
            "Epoch 77: loss on final training batch: 0.1543\n",
            "Epoch 78: loss on final training batch: 0.1523\n",
            "Epoch 79: loss on final training batch: 0.1512\n",
            "Epoch 80: loss on final training batch: 0.1500\n",
            "Epoch 81: loss on final training batch: 0.1493\n",
            "Epoch 82: loss on final training batch: 0.1472\n",
            "Epoch 83: loss on final training batch: 0.1458\n",
            "Epoch 84: loss on final training batch: 0.1453\n",
            "Epoch 85: loss on final training batch: 0.1440\n",
            "Epoch 86: loss on final training batch: 0.1437\n",
            "Epoch 87: loss on final training batch: 0.1428\n",
            "Epoch 88: loss on final training batch: 0.1419\n",
            "Epoch 89: loss on final training batch: 0.1422\n",
            "Epoch 90: loss on final training batch: 0.1427\n",
            "Epoch 91: loss on final training batch: 0.1413\n",
            "Epoch 92: loss on final training batch: 0.1409\n",
            "Epoch 93: loss on final training batch: 0.1400\n",
            "Epoch 94: loss on final training batch: 0.1398\n",
            "Epoch 95: loss on final training batch: 0.1399\n",
            "Epoch 96: loss on final training batch: 0.1402\n",
            "Epoch 97: loss on final training batch: 0.1394\n",
            "Epoch 98: loss on final training batch: 0.1393\n",
            "Epoch 99: loss on final training batch: 0.1388\n",
            "Loss on test set: 0.1531\n"
          ]
        },
        {
          "output_type": "display_data",
          "data": {
            "text/plain": [
              "<Figure size 640x480 with 1 Axes>"
            ],
            "image/png": "[encoded data removed]"
          },
          "metadata": {}
        }
      ]
    }
  ]
}