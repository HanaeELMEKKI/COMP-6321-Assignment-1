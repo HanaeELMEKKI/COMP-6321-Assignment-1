{
  "nbformat": 4,
  "nbformat_minor": 0,
  "metadata": {
    "colab": {
      "provenance": [],
      "gpuType": "T4",
      "authorship_tag": "ABX9TyO0XP/ezTYDp9nS3gNwQg0O",
      "include_colab_link": true
    },
    "kernelspec": {
      "name": "python3",
      "display_name": "Python 3"
    },
    "language_info": {
      "name": "python"
    },
    "accelerator": "GPU"
  },
  "cells": [
    {
      "cell_type": "markdown",
      "metadata": {
        "id": "view-in-github",
        "colab_type": "text"
      },
      "source": [
        "<a href=\"https://colab.research.google.com/github/HanaeELMEKKI/COMP-6321-Assignment-1/blob/main/Question3/Implementation_Question_3.ipynb\" target=\"_parent\"><img src=\"https://colab.research.google.com/assets/colab-badge.svg\" alt=\"Open In Colab\"/></a>"
      ]
    },
    {
      "cell_type": "markdown",
      "source": [
        "# **Exercise Description:**\n",
        "Design and train two neural networks to tackle the regression and classification\n",
        "tasks in Question 1 and Question 2. Use the same datasets and train-test\n",
        "split ratio. Build and train neural networks using PyTorch. Report on the\n",
        "performance of the NN models, and compare them with the models developed\n",
        "using Linear Regression and Logistic Regression."
      ],
      "metadata": {
        "id": "c-PePICZOtV_"
      }
    },
    {
      "cell_type": "code",
      "execution_count": 770,
      "metadata": {
        "id": "aSJXMOf_5rfR"
      },
      "outputs": [],
      "source": [
        "import pandas as pd\n",
        "from sklearn.model_selection import train_test_split\n",
        "import torch\n",
        "import torch.nn as nn\n",
        "import torch.optim as optim\n",
        "from sklearn.preprocessing import LabelEncoder\n",
        "from sklearn.preprocessing import StandardScaler\n",
        "import matplotlib.pyplot as plt"
      ]
    },
    {
      "cell_type": "markdown",
      "source": [
        "# **Classification:**"
      ],
      "metadata": {
        "id": "Zfd3I3KM_0Bp"
      }
    },
    {
      "cell_type": "code",
      "source": [
        "#read cvs file into dataframe\n",
        "df = pd.read_csv(\"https://raw.githubusercontent.com/HanaeELMEKKI/COMP-6321-Assignment-1/main/Question2/lung_cancer_dataset.csv\")"
      ],
      "metadata": {
        "id": "TyudFtBh7Ek1"
      },
      "execution_count": 771,
      "outputs": []
    },
    {
      "cell_type": "code",
      "source": [
        "label_encoder = LabelEncoder()\n",
        "df['GENDER'] = label_encoder.fit_transform(df['GENDER'])\n",
        "df['LUNG_CANCER'] = label_encoder.fit_transform(df['LUNG_CANCER'])"
      ],
      "metadata": {
        "id": "mTUUmbAR7_zb"
      },
      "execution_count": 772,
      "outputs": []
    },
    {
      "cell_type": "code",
      "source": [
        "#Normalization\n",
        "df_trn, df_tst = train_test_split( df, test_size=0.3)\n",
        "X_trn = df_trn.drop(columns=['LUNG_CANCER'])\n",
        "y_trn = df_trn['LUNG_CANCER']\n",
        "\n",
        "X_tst = df_tst.drop(columns=['LUNG_CANCER'])\n",
        "y_tst = df_tst['LUNG_CANCER']\n",
        "\n",
        "scaler = StandardScaler()\n",
        "X_trn = scaler.fit_transform(X_trn)\n",
        "X_tst = scaler.transform(X_tst)\n",
        "\n",
        "y_trn = scaler.fit_transform(y_trn.values.reshape(-1, 1))\n",
        "y_tst = scaler.fit_transform(y_tst.values.reshape(-1, 1))"
      ],
      "metadata": {
        "id": "DXCUBLWqEbyw"
      },
      "execution_count": 773,
      "outputs": []
    },
    {
      "cell_type": "code",
      "source": [
        "X_trn_torch = torch.tensor (X_trn, dtype=torch.float32)\n",
        "y_trn_torch = torch.tensor (y_trn, dtype=torch.float32).reshape(-1,1)\n",
        "X_tst_torch = torch.tensor (X_tst, dtype=torch.float32)\n",
        "y_tst_torch = torch.tensor (y_tst, dtype=torch.float32).reshape(-1,1)"
      ],
      "metadata": {
        "id": "uuw_kz1vvEUZ"
      },
      "execution_count": 774,
      "outputs": []
    },
    {
      "cell_type": "code",
      "source": [
        "# Define the Model\n",
        "model = nn.Sequential(\n",
        "    nn.Linear(15, 20),\n",
        "    nn.ReLU(),\n",
        "    nn.Linear(20, 10),\n",
        "    nn.ReLU(),\n",
        "    nn.Linear(10, 5),\n",
        "    nn.ReLU(),\n",
        "    nn.Linear(5, 1),\n",
        ")"
      ],
      "metadata": {
        "id": "DkUcwaiJ8UR-"
      },
      "execution_count": 775,
      "outputs": []
    },
    {
      "cell_type": "code",
      "source": [
        "# Train the model\n",
        "torch.manual_seed(0)\n",
        "history = []\n",
        "loss_bce = nn.BCEWithLogitsLoss()  # Binary Cross Entropy Loss\n",
        "optimizer = torch.optim.SGD(model.parameters(), lr=0.01, momentum=0.9)\n",
        "\n",
        "# Training the model\n",
        "epochs = 10\n",
        "batch_size = 100\n",
        "for epoch in range(epochs):\n",
        "    for i in range(0, len(X_trn), batch_size):\n",
        "        X = X_trn_torch[i:i+batch_size]\n",
        "        y = y_trn_torch[i:i+batch_size]\n",
        "\n",
        "        y_pred = model(X)\n",
        "        l = loss_bce(y_pred, y)\n",
        "\n",
        "        model.zero_grad()\n",
        "        l.backward()\n",
        "        optimizer.step()\n",
        "    history.append(l.item())\n",
        "\n",
        "    print(\"Epoch %2d: loss on final training batch: %.4f\" % (epoch, l.item()))\n",
        "\n",
        "print(\"Loss on test set: %.4f\" % (loss_bce(model(X_tst_torch), y_tst_torch)))\n",
        "plt.plot(history)\n",
        "plt.show()"
      ],
      "metadata": {
        "id": "x9LLC0DsAUi8",
        "colab": {
          "base_uri": "https://localhost:8080/",
          "height": 621
        },
        "outputId": "cd496500-a131-4810-9c2c-64b06ba146a4"
      },
      "execution_count": 776,
      "outputs": [
        {
          "output_type": "stream",
          "name": "stdout",
          "text": [
            "Epoch  0: loss on final training batch: 0.6340\n",
            "Epoch  1: loss on final training batch: 0.5797\n",
            "Epoch  2: loss on final training batch: 0.5018\n",
            "Epoch  3: loss on final training batch: 0.4115\n",
            "Epoch  4: loss on final training batch: 0.3156\n",
            "Epoch  5: loss on final training batch: 0.2185\n",
            "Epoch  6: loss on final training batch: 0.1238\n",
            "Epoch  7: loss on final training batch: 0.0335\n",
            "Epoch  8: loss on final training batch: -0.0515\n",
            "Epoch  9: loss on final training batch: -0.1312\n",
            "Loss on test set: 0.2728\n"
          ]
        },
        {
          "output_type": "display_data",
          "data": {
            "text/plain": [
              "<Figure size 640x480 with 1 Axes>"
            ],
            "image/png": "[encoded data removed]"
          },
          "metadata": {}
        }
      ]
    },
    {
      "cell_type": "markdown",
      "source": [
        "# **Regression**"
      ],
      "metadata": {
        "id": "iI0xDW4Q_5M0"
      }
    },
    {
      "cell_type": "code",
      "source": [
        "#read cvs file into dataframe\n",
        "df = pd.read_csv(\"https://raw.githubusercontent.com/HanaeELMEKKI/COMP-6321-Assignment-1/main/Question1/Health_Insurance_Dataset.csv\")"
      ],
      "metadata": {
        "id": "9Qdt1ggiOQ2R"
      },
      "execution_count": 777,
      "outputs": []
    },
    {
      "cell_type": "code",
      "source": [
        "label_encoder = LabelEncoder()\n",
        "df['sex'] = label_encoder.fit_transform(df['sex'])\n",
        "df['region'] = label_encoder.fit_transform(df['region'])\n",
        "df['smoker'] = label_encoder.fit_transform(df['smoker'])"
      ],
      "metadata": {
        "id": "z1w8BzJ4O3uy"
      },
      "execution_count": 778,
      "outputs": []
    },
    {
      "cell_type": "code",
      "source": [
        "#Normalization\n",
        "\n",
        "df_trn, df_tst = train_test_split( df, test_size=0.3)\n",
        "X_trn = df_trn.drop(columns=['charges'])\n",
        "y_trn = df_trn['charges']\n",
        "\n",
        "X_tst = df_tst.drop(columns=['charges'])\n",
        "y_tst = df_tst['charges']\n",
        "\n",
        "scaler = StandardScaler()\n",
        "X_trn = scaler.fit_transform(X_trn)\n",
        "X_tst = scaler.transform(X_tst)\n",
        "y_trn = scaler.fit_transform(y_trn.values.reshape(-1, 1))\n",
        "y_tst = scaler.fit_transform(y_tst.values.reshape(-1, 1))"
      ],
      "metadata": {
        "id": "ZhlSL89IPCIv"
      },
      "execution_count": 779,
      "outputs": []
    },
    {
      "cell_type": "code",
      "source": [
        "X_trn_torch = torch.tensor (X_trn, dtype=torch.float32)\n",
        "y_trn_torch = torch.tensor (y_trn, dtype=torch.float32).reshape(-1,1)\n",
        "X_tst_torch = torch.tensor (X_tst, dtype=torch.float32)\n",
        "y_tst_torch = torch.tensor (y_tst, dtype=torch.float32).reshape(-1,1)"
      ],
      "metadata": {
        "id": "N6hprVD0PLwm"
      },
      "execution_count": 780,
      "outputs": []
    },
    {
      "cell_type": "code",
      "source": [
        "# Define the Model\n",
        "model = nn.Sequential(\n",
        "    nn.Linear(6, 12),\n",
        "    nn.ReLU(),\n",
        "    nn.Linear(12, 4),\n",
        "    nn.ReLU(),\n",
        "    nn.Linear(4, 2),\n",
        "    nn.ReLU(),\n",
        "    nn.Linear(2, 1)\n",
        ")"
      ],
      "metadata": {
        "id": "G1RImlenPP66"
      },
      "execution_count": 781,
      "outputs": []
    },
    {
      "cell_type": "code",
      "source": [
        "# Train the model\n",
        "history_regression = []\n",
        "torch.manual_seed(0)\n",
        "loss_mse = nn.MSELoss()  # Mean Square Error\n",
        "optimizer = torch.optim.SGD(model.parameters(),lr=0.01, momentum=0.9)\n",
        "batch_size = 100\n",
        "\n",
        "# Training the model\n",
        "epochs = 25\n",
        "for epoch in range(epochs):\n",
        "\n",
        "    for i in range(0, len(X_trn), batch_size):\n",
        "        X = X_trn_torch[i:i+batch_size]\n",
        "        y = y_trn_torch[i:i+batch_size]\n",
        "\n",
        "        y_pred = model(X)\n",
        "        l = loss_mse(y_pred, y)\n",
        "\n",
        "        model.zero_grad()\n",
        "        l.backward()\n",
        "        optimizer.step()\n",
        "    history_regression.append(l.item())\n",
        "\n",
        "    print(\"Epoch %2d: loss on final training batch: %.4f\" % (epoch, l.item()))\n",
        "\n",
        "print(\"Loss on test set: %.4f\" % (loss_mse(model(X_tst_torch), y_tst_torch)))\n",
        "plt.plot(history_regression)\n",
        "plt.show()"
      ],
      "metadata": {
        "colab": {
          "base_uri": "https://localhost:8080/",
          "height": 881
        },
        "id": "B-Fb6-dwPUmL",
        "outputId": "ea9ba7f4-3427-4c99-c2fd-57c95efc614d"
      },
      "execution_count": 787,
      "outputs": [
        {
          "output_type": "stream",
          "name": "stdout",
          "text": [
            "Epoch  0: loss on final training batch: 0.1681\n",
            "Epoch  1: loss on final training batch: 0.1611\n",
            "Epoch  2: loss on final training batch: 0.1618\n",
            "Epoch  3: loss on final training batch: 0.1604\n",
            "Epoch  4: loss on final training batch: 0.1591\n",
            "Epoch  5: loss on final training batch: 0.1596\n",
            "Epoch  6: loss on final training batch: 0.1589\n",
            "Epoch  7: loss on final training batch: 0.1577\n",
            "Epoch  8: loss on final training batch: 0.1572\n",
            "Epoch  9: loss on final training batch: 0.1566\n",
            "Epoch 10: loss on final training batch: 0.1558\n",
            "Epoch 11: loss on final training batch: 0.1561\n",
            "Epoch 12: loss on final training batch: 0.1551\n",
            "Epoch 13: loss on final training batch: 0.1554\n",
            "Epoch 14: loss on final training batch: 0.1553\n",
            "Epoch 15: loss on final training batch: 0.1546\n",
            "Epoch 16: loss on final training batch: 0.1546\n",
            "Epoch 17: loss on final training batch: 0.1541\n",
            "Epoch 18: loss on final training batch: 0.1548\n",
            "Epoch 19: loss on final training batch: 0.1550\n",
            "Epoch 20: loss on final training batch: 0.1547\n",
            "Epoch 21: loss on final training batch: 0.1548\n",
            "Epoch 22: loss on final training batch: 0.1546\n",
            "Epoch 23: loss on final training batch: 0.1547\n",
            "Epoch 24: loss on final training batch: 0.1548\n",
            "Loss on test set: 0.1676\n"
          ]
        },
        {
          "output_type": "display_data",
          "data": {
            "text/plain": [
              "<Figure size 640x480 with 1 Axes>"
            ],
            "image/png": "[encoded data removed]"
          },
          "metadata": {}
        }
      ]
    }
  ]
}